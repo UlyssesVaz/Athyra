{
  "nbformat": 4,
  "nbformat_minor": 0,
  "metadata": {
    "colab": {
      "provenance": [],
      "authorship_tag": "ABX9TyMHonDqWjf3MCU80Zc36u8V",
      "include_colab_link": true
    },
    "kernelspec": {
      "name": "python3",
      "display_name": "Python 3"
    },
    "language_info": {
      "name": "python"
    }
  },
  "cells": [
    {
      "cell_type": "markdown",
      "metadata": {
        "id": "view-in-github",
        "colab_type": "text"
      },
      "source": [
        "<a href=\"https://colab.research.google.com/github/UlyssesVaz/Athyra/blob/main/Amazon_customer_sentiment_analysis.ipynb\" target=\"_parent\"><img src=\"https://colab.research.google.com/assets/colab-badge.svg\" alt=\"Open In Colab\"/></a>"
      ]
    },
    {
      "cell_type": "code",
      "metadata": {
        "colab": {
          "base_uri": "https://localhost:8080/"
        },
        "id": "e97c162a",
        "outputId": "647aca01-d182-4ce2-baea-596f91c39f51"
      },
      "source": [
        "%pip install datasets"
      ],
      "execution_count": null,
      "outputs": [
        {
          "output_type": "stream",
          "name": "stdout",
          "text": [
            "Requirement already satisfied: datasets in /usr/local/lib/python3.12/dist-packages (4.0.0)\n",
            "Requirement already satisfied: filelock in /usr/local/lib/python3.12/dist-packages (from datasets) (3.20.0)\n",
            "Requirement already satisfied: numpy>=1.17 in /usr/local/lib/python3.12/dist-packages (from datasets) (2.0.2)\n",
            "Requirement already satisfied: pyarrow>=15.0.0 in /usr/local/lib/python3.12/dist-packages (from datasets) (18.1.0)\n",
            "Requirement already satisfied: dill<0.3.9,>=0.3.0 in /usr/local/lib/python3.12/dist-packages (from datasets) (0.3.8)\n",
            "Requirement already satisfied: pandas in /usr/local/lib/python3.12/dist-packages (from datasets) (2.2.2)\n",
            "Requirement already satisfied: requests>=2.32.2 in /usr/local/lib/python3.12/dist-packages (from datasets) (2.32.4)\n",
            "Requirement already satisfied: tqdm>=4.66.3 in /usr/local/lib/python3.12/dist-packages (from datasets) (4.67.1)\n",
            "Requirement already satisfied: xxhash in /usr/local/lib/python3.12/dist-packages (from datasets) (3.6.0)\n",
            "Requirement already satisfied: multiprocess<0.70.17 in /usr/local/lib/python3.12/dist-packages (from datasets) (0.70.16)\n",
            "Requirement already satisfied: fsspec<=2025.3.0,>=2023.1.0 in /usr/local/lib/python3.12/dist-packages (from fsspec[http]<=2025.3.0,>=2023.1.0->datasets) (2025.3.0)\n",
            "Requirement already satisfied: huggingface-hub>=0.24.0 in /usr/local/lib/python3.12/dist-packages (from datasets) (0.35.3)\n",
            "Requirement already satisfied: packaging in /usr/local/lib/python3.12/dist-packages (from datasets) (25.0)\n",
            "Requirement already satisfied: pyyaml>=5.1 in /usr/local/lib/python3.12/dist-packages (from datasets) (6.0.3)\n",
            "Requirement already satisfied: aiohttp!=4.0.0a0,!=4.0.0a1 in /usr/local/lib/python3.12/dist-packages (from fsspec[http]<=2025.3.0,>=2023.1.0->datasets) (3.13.0)\n",
            "Requirement already satisfied: typing-extensions>=3.7.4.3 in /usr/local/lib/python3.12/dist-packages (from huggingface-hub>=0.24.0->datasets) (4.15.0)\n",
            "Requirement already satisfied: hf-xet<2.0.0,>=1.1.3 in /usr/local/lib/python3.12/dist-packages (from huggingface-hub>=0.24.0->datasets) (1.1.10)\n",
            "Requirement already satisfied: charset_normalizer<4,>=2 in /usr/local/lib/python3.12/dist-packages (from requests>=2.32.2->datasets) (3.4.3)\n",
            "Requirement already satisfied: idna<4,>=2.5 in /usr/local/lib/python3.12/dist-packages (from requests>=2.32.2->datasets) (3.10)\n",
            "Requirement already satisfied: urllib3<3,>=1.21.1 in /usr/local/lib/python3.12/dist-packages (from requests>=2.32.2->datasets) (2.5.0)\n",
            "Requirement already satisfied: certifi>=2017.4.17 in /usr/local/lib/python3.12/dist-packages (from requests>=2.32.2->datasets) (2025.10.5)\n",
            "Requirement already satisfied: python-dateutil>=2.8.2 in /usr/local/lib/python3.12/dist-packages (from pandas->datasets) (2.9.0.post0)\n",
            "Requirement already satisfied: pytz>=2020.1 in /usr/local/lib/python3.12/dist-packages (from pandas->datasets) (2025.2)\n",
            "Requirement already satisfied: tzdata>=2022.7 in /usr/local/lib/python3.12/dist-packages (from pandas->datasets) (2025.2)\n",
            "Requirement already satisfied: aiohappyeyeballs>=2.5.0 in /usr/local/lib/python3.12/dist-packages (from aiohttp!=4.0.0a0,!=4.0.0a1->fsspec[http]<=2025.3.0,>=2023.1.0->datasets) (2.6.1)\n",
            "Requirement already satisfied: aiosignal>=1.4.0 in /usr/local/lib/python3.12/dist-packages (from aiohttp!=4.0.0a0,!=4.0.0a1->fsspec[http]<=2025.3.0,>=2023.1.0->datasets) (1.4.0)\n",
            "Requirement already satisfied: attrs>=17.3.0 in /usr/local/lib/python3.12/dist-packages (from aiohttp!=4.0.0a0,!=4.0.0a1->fsspec[http]<=2025.3.0,>=2023.1.0->datasets) (25.4.0)\n",
            "Requirement already satisfied: frozenlist>=1.1.1 in /usr/local/lib/python3.12/dist-packages (from aiohttp!=4.0.0a0,!=4.0.0a1->fsspec[http]<=2025.3.0,>=2023.1.0->datasets) (1.8.0)\n",
            "Requirement already satisfied: multidict<7.0,>=4.5 in /usr/local/lib/python3.12/dist-packages (from aiohttp!=4.0.0a0,!=4.0.0a1->fsspec[http]<=2025.3.0,>=2023.1.0->datasets) (6.7.0)\n",
            "Requirement already satisfied: propcache>=0.2.0 in /usr/local/lib/python3.12/dist-packages (from aiohttp!=4.0.0a0,!=4.0.0a1->fsspec[http]<=2025.3.0,>=2023.1.0->datasets) (0.3.2)\n",
            "Requirement already satisfied: yarl<2.0,>=1.17.0 in /usr/local/lib/python3.12/dist-packages (from aiohttp!=4.0.0a0,!=4.0.0a1->fsspec[http]<=2025.3.0,>=2023.1.0->datasets) (1.22.0)\n",
            "Requirement already satisfied: six>=1.5 in /usr/local/lib/python3.12/dist-packages (from python-dateutil>=2.8.2->pandas->datasets) (1.17.0)\n"
          ]
        }
      ]
    },
    {
      "cell_type": "markdown",
      "source": [
        "Download the .jsonl.gz files: We downloaded the compressed files from the web.\n",
        "Decompress the .jsonl.gz files to .jsonl: We used the gzip library to decompress the downloaded files. This is a necessary step because you cannot directly read and parse the JSON objects from a compressed file as if it were a regular text file.\n",
        "\n",
        "Load the data from the .jsonl files: Once we have the decompressed .jsonl files, we can then read them line by line (which is what the pandas loading does under the hood when reading JSONL) or use a library like datasets to load them into a structured format."
      ],
      "metadata": {
        "id": "7xnNPRuiiTl5"
      }
    },
    {
      "cell_type": "code",
      "execution_count": null,
      "metadata": {
        "colab": {
          "base_uri": "https://localhost:8080/"
        },
        "id": "Nese1vtfWo2D",
        "outputId": "a76c442c-eb7d-47bc-b85f-79cdfffcecd8"
      },
      "outputs": [
        {
          "output_type": "stream",
          "name": "stdout",
          "text": [
            "--2025-10-13 21:42:23--  https://mcauleylab.ucsd.edu/public_datasets/data/amazon_2023/raw/review_categories/All_Beauty.jsonl.gz\n",
            "Resolving mcauleylab.ucsd.edu (mcauleylab.ucsd.edu)... 169.228.63.88\n",
            "Connecting to mcauleylab.ucsd.edu (mcauleylab.ucsd.edu)|169.228.63.88|:443... connected.\n",
            "HTTP request sent, awaiting response... 200 OK\n",
            "Length: 94441517 (90M) [application/gzip]\n",
            "Saving to: ‘All_Beauty.jsonl.gz.6’\n",
            "\n",
            "All_Beauty.jsonl.gz 100%[===================>]  90.07M  50.3MB/s    in 1.8s    \n",
            "\n",
            "2025-10-13 21:42:25 (50.3 MB/s) - ‘All_Beauty.jsonl.gz.6’ saved [94441517/94441517]\n",
            "\n",
            "--2025-10-13 21:42:25--  https://mcauleylab.ucsd.edu/public_datasets/data/amazon_2023/raw/meta_categories/meta_All_Beauty.jsonl.gz\n",
            "Resolving mcauleylab.ucsd.edu (mcauleylab.ucsd.edu)... 169.228.63.88\n",
            "Connecting to mcauleylab.ucsd.edu (mcauleylab.ucsd.edu)|169.228.63.88|:443... connected.\n",
            "HTTP request sent, awaiting response... 200 OK\n",
            "Length: 39871253 (38M) [application/gzip]\n",
            "Saving to: ‘meta_All_Beauty.jsonl.gz.4’\n",
            "\n",
            "meta_All_Beauty.jso 100%[===================>]  38.02M  39.6MB/s    in 1.0s    \n",
            "\n",
            "2025-10-13 21:42:26 (39.6 MB/s) - ‘meta_All_Beauty.jsonl.gz.4’ saved [39871253/39871253]\n",
            "\n",
            "Reviews Dataset Head:\n",
            "{'rating': 5.0, 'title': 'Such a lovely scent but not overpowering.', 'text': \"This spray is really nice. It smells really good, goes on really fine, and does the trick. I will say it feels like you need a lot of it though to get the texture I want. I have a lot of hair, medium thickness. I am comparing to other brands with yucky chemicals so I'm gonna stick with this. Try it!\", 'images': [], 'asin': 'B00YQ6X8EO', 'parent_asin': 'B00YQ6X8EO', 'user_id': 'AGKHLEW2SOWHNMFQIJGBECAF7INQ', 'timestamp': 1588687728923, 'helpful_vote': 0, 'verified_purchase': True}\n",
            "\n",
            "Meta Data Dataset Head:\n",
            "{'main_category': 'All Beauty', 'title': 'Howard LC0008 Leather Conditioner, 8-Ounce (4-Pack)', 'average_rating': 4.8, 'rating_number': 10, 'features': [], 'description': [], 'price': None, 'images': [{'hi_res': None, 'large': 'https://m.media-amazon.com/images/I/41qfjSfqNyL.jpg', 'thumb': 'https://m.media-amazon.com/images/I/41qfjSfqNyL._SS40_.jpg', 'variant': 'MAIN'}, {'hi_res': 'https://m.media-amazon.com/images/I/71i77AuI9xL._SL1500_.jpg', 'large': 'https://m.media-amazon.com/images/I/41w2yznfuZL.jpg', 'thumb': 'https://m.media-amazon.com/images/I/41w2yznfuZL._SS40_.jpg', 'variant': 'PT01'}], 'videos': [], 'store': 'Howard Products', 'categories': [], 'details': {'': None, 'Action': None, 'Active Ingredients': None, 'Adjustable Length': None, 'Age Range (Description)': None, 'Age Range Description': None, 'Alcohol Content': None, 'Allergen Information': None, 'Amperage': None, 'Antenna': None, 'Arch Type': None, 'Are Batteries Included': None, 'Assembly Required': None, 'Assembly Required No': None, 'Assembly Required Yes': None, 'Assembly required': None, 'Auto Part Position': None, 'Auto Shutoff': None, 'Back Style': None, 'Band Color': None, 'Band Length': None, 'Band Material Type': None, 'Band Size': None, 'Band Width': None, 'Base Type': None, 'Batteries': None, 'Batteries Included?': None, 'Batteries Required?': None, 'Batteries required': None, 'Battery Cell Composition': None, 'Battery Description': None, 'Battery Life': None, 'Binding': None, 'Blade Color': None, 'Blade Edge': None, 'Blade Length': None, 'Blade Material': None, 'Blade Shape': None, 'Blanket Form': None, 'Body Shape': None, 'Bottle Nipple Type': None, 'Bottle Type': None, 'Bowl Material': None, 'Brand': None, 'Brand Name': None, 'Breed Recommendation': None, 'Bristle Material': None, 'Bristle Type': None, 'Brush Length': None, 'Bulb Shape Size': None, 'CPSIA Cautionary Statement': None, 'Cable Feature': None, 'Cable Type': None, 'Camera Lens Description': None, 'Capacity': None, 'Care instructions': None, 'Cartoon Character': None, 'Caster Type': None, 'Center To Center Spacing': None, 'Chain Type': None, 'Charging Time': None, 'Chocolate Type': None, 'Clarity': None, 'Clasp Type': None, 'Closure Type': None, 'Collection Name': None, 'Color': None, 'Color Name': None, 'Compatibility Options': None, 'Compatible Devices': None, 'Compatible Material': None, 'Compatible Phone Models': None, 'Component Type': None, 'Configuration': None, 'Connectivity Technology': None, 'Connectivity technologies': None, 'Connector Gender': None, 'Connector Type': None, 'Construction Type': None, 'Contact Material': None, 'Contains Liquid Contents': None, 'Contributor': None, 'Control Method': None, 'Controller Type': None, 'Corner Style': None, 'Country of Origin': None, 'Country/Region Of Origin': None, 'Cover Material': None, 'Coverage': None, 'Cuisine': None, 'Cut Type': None, 'Data Transfer Rate': None, 'Date First Available': None, 'Dental Floss Type': None, 'Department': None, 'Desk design': None, 'Diet Type': None, 'Display Type': None, 'Display resolution': None, 'Domestic Shipping': None, 'Dosage Form': None, 'Duration': None, 'Edition Number': None, 'Educational Objective': None, 'Electric fan design': None, 'Embellishment': None, 'Expected Blooming Period': None, 'Extended Length': None, 'Extension Length': None, 'Exterior Finish': None, 'External Testing Certification': None, 'Eyelid Color Type': None, 'Fabric Type': None, 'Fastener Material': None, 'Fastener Type': None, 'Ferrule Material': None, 'Fill Material': None, 'Filter Class': None, 'Filter Type': None, 'Finish': None, 'Finish Type': None, 'Finish types': None, 'Fishing Technique': None, 'Fit Type': None, 'Fit Type Universal Fit': None, 'Flavor': None, 'Form Factor': None, 'Format': None, 'Formulation Type': None, 'Fragrance Concentration': None, 'Frame Material': None, 'Frame Material Aluminum, Nylon': None, 'Frame Type': None, 'Full Cure Time': None, 'Furniture Finish': None, 'Genre': None, 'Grade Rating': None, 'Grit Material': None, 'Grit Number': None, 'Grit Type': None, 'Hair Type': None, 'Hand Orientation': None, 'Handle Material': None, 'Handle Type': None, 'Hardware Platform': None, 'Has Nonstick Coating': None, 'Head Material': None, 'Head Type': None, 'Headphones Jack': None, 'Heat Output': None, 'Heater Surface Material': None, 'Honey Type': None, 'Human Interface Input': None, 'Image Stabilization': None, 'Import': None, 'Import Designation': None, 'Included Components': None, 'Incontinence Protector Type': None, 'Indoor/Outdoor Usage': None, 'Ink Color': None, 'Inner Material': None, 'Input Voltage': None, 'Installation Type': None, 'Installation Type Adhesive': None, 'Installation Type Adhesión estática': None, 'Installation Type Peel': None, 'Installation Type Self-Adhesive': None, 'Installation Type Stick': None, 'Installation Type Water transfer': None, 'Installation Type water transfer': None, 'Instrument Key': None, 'International Protection Rating': None, 'International Shipping': None, 'Is Autographed': None, 'Is Cordless?': None, 'Is Discontinued By Manufacturer': None, 'Is Dishwasher Safe': None, 'Is Electric': None, 'Is Foldable': None, 'Is Microwaveable': None, 'Is Oven Safe': None, 'Is Product Expirable': None, 'Is Stain Resistant': None, 'Is Waterproof': None, 'Is framed?': None, 'Item Diameter': None, 'Item Dimensions  LxWxH': None, 'Item Dimensions LxWxH': None, 'Item Firmness Description': None, 'Item Form': None, 'Item Hardness': None, 'Item Length': None, 'Item Package Dimensions L x W x H': None, 'Item Package Quantity': None, 'Item Volume': None, 'Item Weight': None, 'Item Weight 1 Kilograms': None, 'Item Weight 176.37 Pounds': None, 'Item model number': None, 'Keyboard Description': None, 'Lamp Type': None, 'Language': None, 'League': None, 'Lens Curvature Description': None, 'Lens Material': None, 'Lens Type': None, 'Lid Material': None, 'Light Color': None, 'Light Source Type': None, 'Light Type': None, 'Lining Description': None, 'Liquid Contents Description': None, 'Liquid Volume': None, 'Load Capacity': None, 'Magnification Strength': None, 'Main Power Connector Type': None, 'Manufacturer': None, 'Manufacturer Minimum Age (MONTHS)': None, 'Manufacturer Part Number': None, 'Manufacturer recommended age': None, 'Material': None, 'Material Acrylic': None, 'Material Composition': None, 'Material Feature': None, 'Material Glass': None, 'Material Leather': None, 'Material Leather, Polyvinyl Chloride': None, 'Material Melamine': None, 'Material Nail': None, 'Material Nail art': None, 'Material Nylon, Aluminum, Leather': None, 'Material PVC': None, 'Material Paper': None, 'Material Paper, Metal': None, 'Material Paper, Plastic': None, 'Material Pec': None, 'Material Plastic': None, 'Material Polyethylene': None, 'Material Polyurethane': None, 'Material Resin': None, 'Material Silicone': None, 'Material Silk': None, 'Material Stainless Steel': None, 'Material Type': None, 'Material Type Free': None, 'Material Vinyl': None, 'Material Wood': None, 'Max Temperature Setting': None, 'Maximum Height Recommendation': None, 'Maximum Range': None, 'Maximum Rotational Speed': None, 'Maximum Weight Recommendation': None, 'Memory Storage Capacity': None, 'Metal Stamp': None, 'Metal Type': None, 'Microphone Form Factor': None, 'Model Info': None, 'Model Name': None, 'Moisture Needs': None, 'Mounting Type': None, 'Mounting Type Desktop': None, 'Mounting Type Free Standing': None, 'Mounting Type Freestanding': None, 'Mounting Type On Your Dressing Table,Bathroom': None, 'Mounting Type Tabletop Mount': None, 'Mounting Type Wall Mount': None, 'Multiline Operation': None, 'National Stock Number': None, 'Net Content Volume': None, 'Net Content Weight': None, 'Nominal Wall Thickness': None, 'Number Of Doors': None, 'Number Of Items': None, 'Number Of Pieces': None, 'Number Of Pockets': None, 'Number of Batteries': None, 'Number of Blades': None, 'Number of Buttons': None, 'Number of Channels': None, 'Number of Compartments': None, 'Number of Compartments 3': None, 'Number of Compartments 8': None, 'Number of Doors': None, 'Number of Drawers': None, 'Number of Handles': None, 'Number of Items': None, 'Number of Keys': None, 'Number of Labels': None, 'Number of Light Sources': None, 'Number of Pieces': None, 'Number of Players': None, 'Number of Ports': None, 'Number of Sets': None, 'Number of Shelves': None, 'Number of Speeds': None, 'Number of Wheels': None, 'Number of pieces': None, 'Number of settings': None, 'Occasion': None, 'Occupancy': None, 'Occupant Capacity': None, 'Opacity': None, 'Opening Mechanism': None, 'Operating System': None, 'Operating Time': None, 'Operation Mode': None, 'Optical Zoom': None, 'Orientation': None, 'Other display features': None, 'Our Recommended age': None, 'Outer Material': None, 'Output Current': None, 'Output Voltage': None, 'Package Dimensions': '7.1 x 5.5 x 3 inches; 2.38 Pounds', 'Package Information': None, 'Package Type': None, 'Package Weight': None, 'Page Yield': None, 'Pages': None, 'Paint Type': None, 'Paper Finish': None, 'Part Number': None, 'Pattern': None, 'Percentage assay': None, 'Pile Height': None, 'Pillow Type': None, 'Plant or Animal Product Type': None, 'Ply Rating': None, 'Point Type': None, 'Power Source': None, 'Primary Supplement Type': None, 'Print media': None, 'Printer Output': None, 'Printing Technology': None, 'Produce sold as': None, 'Product Benefits': None, 'Product Care Instructions': None, 'Product Dimensions': None, 'Product Grade': None, 'Readout Accuracy': None, 'Real Angle of View': None, 'Recommended Uses For Product': None, 'Reminder': None, 'Reusability': None, 'Rim Size': None, 'Room Type': None, 'Ruling Type': None, 'Runtime': None, 'Scanner Type': None, 'Scent': None, 'Screen Size': None, 'Screen Surface Description': None, 'Seasons': None, 'Seat Height': None, 'Seat Material Type': None, 'Series Number': None, 'Servings per Container': None, 'Shade Material': None, 'Shaft Material': None, 'Shank Type': None, 'Shape': None, 'Shape Heart': None, 'Shape Heart, Flower': None, 'Shape Irregular': None, 'Shape Oblong': None, 'Shape Rectangular': None, 'Shape Round': None, 'Shape Triangular': None, 'Sheet Count': None, 'Shell Type': None, 'Shelves': None, 'Size': None, 'Skill Level': None, 'Skin Tone': None, 'Skin Type': None, 'Soil Type': None, 'Sound Level': None, 'Speaker Type': None, 'Special Feature': None, 'Special Features': None, 'Special Ingredients': None, 'Special features': None, 'Specialty': None, 'Specific Uses For Product': None, 'Specification Met': None, 'Specifications': None, 'Sport': None, 'Sport Type': None, 'Sterility Rating': None, 'Stone Shape': None, 'Strap Type': None, 'Style': None, 'Style French': None, 'Sub Brand': None, 'Subwoofer Diameter': None, 'Suitable Hair Color': None, 'Sun Protection': None, 'Sun Protection Factor': None, 'Sunlight Exposure': None, 'Supported Application': None, 'Supported Standards': None, 'Surface Recommendation': None, 'Surface Recommendation Aluminum': None, 'Surface Recommendation Ceramic': None, 'Surface Recommendation Floor': None, 'Surface Recommendation Foil': None, 'Surface Recommendation Furniture': None, 'Surface Recommendation Glass': None, 'Surface Recommendation Metal': None, 'Surface Recommendation Nail': None, 'Surface Recommendation Nails': None, 'Surface Recommendation Paper with Sticker': None, 'Surface Recommendation Plastic': None, 'Surface Recommendation Wall': None, 'Surface Recommendation Window': None, 'Surface Recommendation nail': None, 'Surface Recommendation nails': None, 'Surface Recommendation wall': None, 'Switch Type': None, 'TV Size': None, 'Table design': None, 'Tank Volume': None, 'Target Audience': None, 'Target Species': None, 'Target gender': None, 'Tea Variety': None, 'Team Name': None, 'Terminal': None, 'Theme': None, 'Thread Type': None, 'Tool Flute Type': None, 'Top Material Type': None, 'Top Style': None, 'Total Eaches': None, 'Total USB Ports': None, 'Towel form type': None, 'Type': None, 'UPC': '617390882781', 'USDA Hardiness Zone': None, 'Ultraviolet Light Protection': None, 'Unit Count': None, 'Units': None, 'Usage': None, 'Use for': None, 'Valve Type': None, 'Variety': None, 'Vehicle Service Type': None, 'Ventilation Type': None, 'Voltage': None, 'Volume': None, 'Waist (cm)': None, 'Wall Art Form': None, 'Warranty Description': None, 'Water Resistance Level': None, 'Wattage': None, 'Weave Type': None, 'Weight': None, 'Weight Limit': None, 'Whats in the box': None, 'Wheel Size': None, 'Whistling': None, 'Wireless Communication Standard': None, 'Wireless Communication Technology': None, 'With Lid': None, 'Year': None}, 'parent_asin': 'B01CUPMQZE', 'bought_together': None}\n"
          ]
        }
      ],
      "source": [
        "import json\n",
        "import gzip\n",
        "import pandas as pd\n",
        "from datasets import Dataset\n",
        "\n",
        "!wget https://mcauleylab.ucsd.edu/public_datasets/data/amazon_2023/raw/review_categories/All_Beauty.jsonl.gz\n",
        "!wget https://mcauleylab.ucsd.edu/public_datasets/data/amazon_2023/raw/meta_categories/meta_All_Beauty.jsonl.gz\n",
        "\n",
        "# Decompress the downloaded files\n",
        "file_gz_reviews = \"All_Beauty.jsonl.gz\"\n",
        "file_jsonl_reviews = \"All_Beauty.jsonl\"\n",
        "\n",
        "with gzip.open(file_gz_reviews, 'rt', encoding='utf-8') as gz_fp, open(file_jsonl_reviews, 'w', encoding='utf-8') as jsonl_fp:\n",
        "    for line in gz_fp:\n",
        "        jsonl_fp.write(line)\n",
        "\n",
        "file_gz_meta = \"meta_All_Beauty.jsonl.gz\"\n",
        "file_jsonl_meta = \"meta_All_Beauty.jsonl\"\n",
        "\n",
        "with gzip.open(file_gz_meta, 'rt', encoding='utf-8') as gz_fp, open(file_jsonl_meta, 'w', encoding='utf-8') as jsonl_fp:\n",
        "    for line in gz_fp:\n",
        "        jsonl_fp.write(line)\n",
        "\n",
        "# Load decompressed JSONL files into pandas DataFrames\n",
        "reviews_list = []\n",
        "with open(file_jsonl_reviews, 'r', encoding='utf-8') as f:\n",
        "    for line in f:\n",
        "        try:\n",
        "            reviews_list.append(json.loads(line))\n",
        "        except json.JSONDecodeError as e:\n",
        "            print(f\"Skipping corrupted line in reviews: {line.strip()} - Error: {e}\")\n",
        "            continue\n",
        "\n",
        "meta_list = []\n",
        "with open(file_jsonl_meta, 'r', encoding='utf-8') as f:\n",
        "    for line in f:\n",
        "        try:\n",
        "            meta_list.append(json.loads(line))\n",
        "        except json.JSONDecodeError as e:\n",
        "            print(f\"Skipping corrupted line in meta: {line.strip()} - Error: {e}\")\n",
        "            continue\n",
        "\n",
        "\n",
        "reviews_df = pd.DataFrame(reviews_list)\n",
        "meta_df = pd.DataFrame(meta_list)\n",
        "\n",
        "# Convert pandas DataFrames to datasets Dataset objects\n",
        "reviews_all_beauty = Dataset.from_pandas(reviews_df)\n",
        "meta_all_beauty = Dataset.from_pandas(meta_df)\n",
        "\n",
        "print(\"Reviews Dataset Head:\")\n",
        "print(reviews_all_beauty[0])\n",
        "\n",
        "print(\"\\nMeta Data Dataset Head:\")\n",
        "print(meta_all_beauty[0])"
      ]
    },
    {
      "cell_type": "code",
      "source": [],
      "metadata": {
        "id": "GxfkVqsvjIo6"
      },
      "execution_count": null,
      "outputs": []
    }
  ]
}